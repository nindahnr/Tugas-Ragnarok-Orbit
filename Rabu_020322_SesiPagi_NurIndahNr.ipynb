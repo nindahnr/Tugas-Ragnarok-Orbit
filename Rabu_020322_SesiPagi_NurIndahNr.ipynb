{
 "cells": [
  {
   "cell_type": "markdown",
   "metadata": {},
   "source": [
    "# TUGAS 2 MARET PAGI"
   ]
  },
  {
   "cell_type": "markdown",
   "metadata": {},
   "source": [
    "### Nomor 1"
   ]
  },
  {
   "cell_type": "markdown",
   "metadata": {},
   "source": [
    "#### False, True, True, True, False"
   ]
  },
  {
   "cell_type": "markdown",
   "metadata": {},
   "source": [
    "### Nomor 2"
   ]
  },
  {
   "cell_type": "code",
   "execution_count": 4,
   "metadata": {},
   "outputs": [
    {
     "name": "stdout",
     "output_type": "stream",
     "text": [
      "Hello!\n",
      "Enter something : This is Me!\n",
      "You entered :  This is Me!\n"
     ]
    }
   ],
   "source": [
    "print('Hello!')\n",
    "something = input(\"Enter something : \" )\n",
    "print('You entered : ', something)"
   ]
  },
  {
   "cell_type": "markdown",
   "metadata": {},
   "source": [
    "### Nomor 3"
   ]
  },
  {
   "cell_type": "code",
   "execution_count": 5,
   "metadata": {},
   "outputs": [
    {
     "name": "stdout",
     "output_type": "stream",
     "text": [
      "Hello!\n",
      "Enter something: hai\n",
      "Hi there!\n"
     ]
    }
   ],
   "source": [
    "print('Hello!')\n",
    "something = input(\"Enter something: \")\n",
    "\n",
    "if (something == 'hello'):\n",
    "    print(\"Hello for you too!\")\n",
    "\n",
    "elif (something == 'hai'):\n",
    "    print(\"Hi there!\")\n",
    "\n",
    "else:\n",
    "    print(\"I don't know what,\", something, \"means.\")"
   ]
  },
  {
   "cell_type": "markdown",
   "metadata": {},
   "source": [
    "### Nomor 4"
   ]
  },
  {
   "cell_type": "code",
   "execution_count": 6,
   "metadata": {},
   "outputs": [
    {
     "name": "stdout",
     "output_type": "stream",
     "text": [
      "Halo Hai\n",
      "Halo Hai\n",
      "Halo Hai\n",
      "Halo Hai\n",
      "Halo Hai\n",
      "Halo Hai\n",
      "Halo Hai\n",
      "Halo Hai\n",
      "Halo Hai\n",
      "Halo Hai\n",
      "Halo Hai\n",
      "Halo Hai\n",
      "Halo Hai\n",
      "Halo Hai\n",
      "Halo Hai\n",
      "Halo Hai\n",
      "Halo Hai\n",
      "Halo Hai\n",
      "Halo Hai\n",
      "Halo Hai\n",
      "Halo Hai\n",
      "Halo Hai\n",
      "Halo Hai\n",
      "Halo Hai\n",
      "Halo Hai\n",
      "Halo Hai\n",
      "Halo Hai\n",
      "Halo Hai\n",
      "Halo Hai\n",
      "Halo Hai\n",
      "Halo Hai\n",
      "Halo Hai\n",
      "Halo Hai\n",
      "Halo Hai\n",
      "Halo Hai\n",
      "Halo Hai\n",
      "Halo Hai\n",
      "Halo Hai\n",
      "Halo Hai\n",
      "Halo Hai\n",
      "Halo Hai\n",
      "Halo Hai\n",
      "Halo Hai\n",
      "Halo Hai\n",
      "Halo Hai\n",
      "Halo Hai\n",
      "Halo Hai\n",
      "Halo Hai\n",
      "Halo Hai\n",
      "Halo Hai\n",
      "Halo Hai\n",
      "Halo Hai\n",
      "Halo Hai\n",
      "Halo Hai\n",
      "Halo Hai\n",
      "Halo Hai\n",
      "Halo Hai\n",
      "Halo Hai\n",
      "Halo Hai\n",
      "Halo Hai\n",
      "Halo Hai\n",
      "Halo Hai\n",
      "Halo Hai\n",
      "Halo Hai\n",
      "Halo Hai\n",
      "Halo Hai\n",
      "Halo Hai\n",
      "Halo Hai\n",
      "Halo Hai\n",
      "Halo Hai\n",
      "Halo Hai\n",
      "Halo Hai\n",
      "Halo Hai\n",
      "Halo Hai\n",
      "Halo Hai\n",
      "Halo Hai\n",
      "Halo Hai\n",
      "Halo Hai\n",
      "Halo Hai\n",
      "Halo Hai\n",
      "Halo Hai\n",
      "Halo Hai\n",
      "Halo Hai\n",
      "Halo Hai\n",
      "Halo Hai\n",
      "Halo Hai\n",
      "Halo Hai\n",
      "Halo Hai\n",
      "Halo Hai\n",
      "Halo Hai\n",
      "Halo Hai\n",
      "Halo Hai\n",
      "Halo Hai\n",
      "Halo Hai\n",
      "Halo Hai\n",
      "Halo Hai\n",
      "Halo Hai\n",
      "Halo Hai\n",
      "Halo Hai\n",
      "Halo Hai\n"
     ]
    }
   ],
   "source": [
    "loop = 100\n",
    "for i in range(loop):\n",
    "    print(f\"Halo Hai\")"
   ]
  },
  {
   "cell_type": "markdown",
   "metadata": {},
   "source": [
    "### Nomor 5"
   ]
  },
  {
   "cell_type": "code",
   "execution_count": 7,
   "metadata": {},
   "outputs": [
    {
     "data": {
      "text/html": [
       "<div>\n",
       "<style scoped>\n",
       "    .dataframe tbody tr th:only-of-type {\n",
       "        vertical-align: middle;\n",
       "    }\n",
       "\n",
       "    .dataframe tbody tr th {\n",
       "        vertical-align: top;\n",
       "    }\n",
       "\n",
       "    .dataframe thead th {\n",
       "        text-align: right;\n",
       "    }\n",
       "</style>\n",
       "<table border=\"1\" class=\"dataframe\">\n",
       "  <thead>\n",
       "    <tr style=\"text-align: right;\">\n",
       "      <th></th>\n",
       "      <th>pemain 1</th>\n",
       "      <th>pemain 2</th>\n",
       "      <th>pemenang</th>\n",
       "    </tr>\n",
       "  </thead>\n",
       "  <tbody>\n",
       "    <tr>\n",
       "      <th>0</th>\n",
       "      <td>batu</td>\n",
       "      <td>batu</td>\n",
       "      <td>seri</td>\n",
       "    </tr>\n",
       "    <tr>\n",
       "      <th>1</th>\n",
       "      <td>gunting</td>\n",
       "      <td>gunting</td>\n",
       "      <td>seri</td>\n",
       "    </tr>\n",
       "    <tr>\n",
       "      <th>2</th>\n",
       "      <td>kertas</td>\n",
       "      <td>kertas</td>\n",
       "      <td>seri</td>\n",
       "    </tr>\n",
       "    <tr>\n",
       "      <th>3</th>\n",
       "      <td>batu</td>\n",
       "      <td>kertas</td>\n",
       "      <td>pemain 2</td>\n",
       "    </tr>\n",
       "    <tr>\n",
       "      <th>4</th>\n",
       "      <td>gunting</td>\n",
       "      <td>batu</td>\n",
       "      <td>pemain 2</td>\n",
       "    </tr>\n",
       "    <tr>\n",
       "      <th>5</th>\n",
       "      <td>kertas</td>\n",
       "      <td>gunting</td>\n",
       "      <td>pemain 2</td>\n",
       "    </tr>\n",
       "    <tr>\n",
       "      <th>6</th>\n",
       "      <td>batu</td>\n",
       "      <td>gunting</td>\n",
       "      <td>pemain 1</td>\n",
       "    </tr>\n",
       "    <tr>\n",
       "      <th>7</th>\n",
       "      <td>gunting</td>\n",
       "      <td>kertas</td>\n",
       "      <td>pemain 1</td>\n",
       "    </tr>\n",
       "    <tr>\n",
       "      <th>8</th>\n",
       "      <td>kertas</td>\n",
       "      <td>batu</td>\n",
       "      <td>pemain 1</td>\n",
       "    </tr>\n",
       "  </tbody>\n",
       "</table>\n",
       "</div>"
      ],
      "text/plain": [
       "  pemain 1 pemain 2  pemenang\n",
       "0     batu     batu      seri\n",
       "1  gunting  gunting      seri\n",
       "2   kertas   kertas      seri\n",
       "3     batu   kertas  pemain 2\n",
       "4  gunting     batu  pemain 2\n",
       "5   kertas  gunting  pemain 2\n",
       "6     batu  gunting  pemain 1\n",
       "7  gunting   kertas  pemain 1\n",
       "8   kertas     batu  pemain 1"
      ]
     },
     "execution_count": 7,
     "metadata": {},
     "output_type": "execute_result"
    }
   ],
   "source": [
    "import pandas as pd\n",
    "\n",
    "df = pd.DataFrame({\n",
    "        'pemain 1':['batu','gunting','kertas','batu','gunting','kertas','batu','gunting','kertas'],\n",
    "        'pemain 2':['batu','gunting','kertas','kertas','batu','gunting','gunting','kertas','batu'],\n",
    "        'pemenang':['seri', 'seri', 'seri', 'pemain 2', 'pemain 2', 'pemain 2', 'pemain 1', 'pemain 1', 'pemain 1']\n",
    "     })\n",
    "df"
   ]
  },
  {
   "cell_type": "code",
   "execution_count": 9,
   "metadata": {},
   "outputs": [
    {
     "name": "stdout",
     "output_type": "stream",
     "text": [
      "Please pick one:\n",
      "            batu\n",
      "            gunting\n",
      "            kertas\n",
      "Player a: batu\n",
      "Player b: gunting\n",
      "player a menang.\n",
      "Mau main lagi gak?\n",
      "ya\n",
      "Player a: kertas\n",
      "Player b: gunting\n",
      "player b menang.\n",
      "Mau main lagi gak?\n",
      "gak\n",
      "game over.\n"
     ]
    }
   ],
   "source": [
    "print('''Please pick one:\n",
    "            batu\n",
    "            gunting\n",
    "            kertas''')\n",
    "\n",
    "while True:\n",
    "    game_dict = {'batu': 1, 'gunting': 2, 'kertas': 3}\n",
    "    player_a = str(input(\"Player a: \"))\n",
    "    player_b = str(input(\"Player b: \"))\n",
    "    a = game_dict.get(player_a)\n",
    "    b = game_dict.get(player_b)\n",
    "    dif = a - b\n",
    "\n",
    "    if dif in [-1, 2]:\n",
    "        print('player a menang.')\n",
    "        if str(input('Mau main lagi gak?\\n')) == 'ya':\n",
    "            continue\n",
    "        else:\n",
    "            print('game over.')\n",
    "            break\n",
    "    elif dif in [-2, 1]:\n",
    "        print('player b menang.')\n",
    "        if str(input('Mau main lagi gak?\\n')) == 'ya':\n",
    "            continue\n",
    "        else:\n",
    "            print('game over.')\n",
    "            break\n",
    "    else:\n",
    "        print('Draw.Please continue.')\n",
    "        print('')"
   ]
  },
  {
   "cell_type": "markdown",
   "metadata": {},
   "source": [
    "### Nomor 6"
   ]
  },
  {
   "cell_type": "code",
   "execution_count": 12,
   "metadata": {},
   "outputs": [
    {
     "name": "stdout",
     "output_type": "stream",
     "text": [
      "Masukkan Hobi Kamu: masak\n",
      "Masukkan Hobi Kamu: berenang\n",
      "Masukkan Hobi Kamu: menari\n",
      "Masukkan Hobi Kamu: makan\n",
      "Masukkan Hobi Kamu: berhenti\n"
     ]
    }
   ],
   "source": [
    "i = 1\n",
    "while(i):\n",
    "    kata = input(\"Masukkan Hobi Kamu: \")\n",
    "    if(kata == \"berhenti\"):\n",
    "        i = 0\n",
    "    else:\n",
    "        i = 1"
   ]
  },
  {
   "cell_type": "markdown",
   "metadata": {},
   "source": [
    "### Nomor 7"
   ]
  },
  {
   "cell_type": "code",
   "execution_count": 13,
   "metadata": {},
   "outputs": [
    {
     "name": "stdout",
     "output_type": "stream",
     "text": [
      "\n",
      "    ==============================\n",
      "    \n",
      "    MENU JAJANAN PASAR INDAH\n",
      " \n",
      "    ==============================\n",
      "    1. Donat : Rp 1.250\n",
      "    2. Bakwan : Rp 1.000\n",
      "    3. Onde-onde : Rp 800\n",
      "    4. Lemper : Rp 1.250\n",
      "    5. Risol : Rp 1.500\n",
      "    ==============================\n",
      "    \n",
      "Masukan menu yang ingin kamu beli =2\n",
      "Masukkan berapa banyak kamu ingin beli? =15\n",
      "--------------------------\n",
      "JAJANAN PASAR INDAH\n",
      "--------------------------\n",
      "Menu : Bakwan\n",
      "Jumlah Pesan : 15\n",
      "Harga : 15000\n",
      "--------------------------\n",
      "Jumlah Bayar : 15000\n",
      "--------------------------\n",
      "apakah anda ingin order kembali Y/N =n\n"
     ]
    }
   ],
   "source": [
    "pilihan=\"y\"\n",
    "while pilihan==\"y\":\n",
    "    print(\"\"\"\n",
    "    ==============================\n",
    "    \n",
    "    MENU JAJANAN PASAR INDAH\n",
    " \n",
    "    ==============================\n",
    "    1. Donat : Rp 1.250\n",
    "    2. Bakwan : Rp 1.000\n",
    "    3. Onde-onde : Rp 800\n",
    "    4. Lemper : Rp 1.250\n",
    "    5. Risol : Rp 1.500\n",
    "    ==============================\n",
    "    \"\"\")\n",
    "    pesan=str(input(\"Masukan menu yang ingin kamu beli =\"))\n",
    "    jumlahpesan=int(input(\"Masukkan berapa banyak kamu ingin beli? =\"))\n",
    "    if pesan == \"1\":\n",
    "        listnama= \"Donat\"\n",
    "        harga=(1250*jumlahpesan)\n",
    "        totalharga=int(harga)\n",
    "    elif pesan == \"2\":\n",
    "        listnama= \"Bakwan\"\n",
    "        harga = (1000*jumlahpesan)\n",
    "        totalharga=int(harga)\n",
    "    elif pesan == \"3\":\n",
    "        listnama= \"Onde-onde\"\n",
    "        harga = (800*jumlahpesan)\n",
    "        totalharga=int(harga)\n",
    "    elif pesan == \"4\":\n",
    "        listnama= \"Lemper\"\n",
    "        harga = (1250*jumlahpesan)\n",
    "        totalharga=int(harga)\n",
    "    elif pesan == \"5\":\n",
    "        listnama= \"Risol\"\n",
    "        harga = (1500*jumlahpesan)\n",
    "        totalharga=int(harga)\n",
    "    else:\n",
    "        listnama = \"-\"\n",
    "        harga = \"-\"\n",
    "        totalharga = \"-\"\n",
    "        pilihan=input(\"menu tidak tersedia, silahkan masukkan menu yang tersedia silahkan ulangi kembali Y/N =\")\n",
    " \n",
    "    print(\"--------------------------\")\n",
    "    print(\"JAJANAN PASAR INDAH\")\n",
    "    print(\"--------------------------\")\n",
    "    print(\"Menu :\",listnama)\n",
    "    print(\"Jumlah Pesan :\", jumlahpesan)\n",
    "    print(\"Harga :\", harga)\n",
    "    print(\"--------------------------\")\n",
    "    print(\"Jumlah Bayar :\", totalharga)\n",
    "    print(\"--------------------------\")\n",
    "    pilihan=input(\"apakah anda ingin order kembali Y/N =\")"
   ]
  },
  {
   "cell_type": "code",
   "execution_count": null,
   "metadata": {},
   "outputs": [
    {
     "name": "stdout",
     "output_type": "stream",
     "text": [
      "\n",
      "    ==============================\n",
      "    \n",
      "    MENU JAJANAN PASAR INDAH\n",
      " \n",
      "    ==============================\n",
      "    1. Donat : Rp 1.250\n",
      "    2. Bakwan : Rp 1.000\n",
      "    3. Onde-onde : Rp 800\n",
      "    4. Lemper : Rp 1.250\n",
      "    5. Risol : Rp 1.500\n",
      "    ==============================\n",
      "    \n",
      "Masukan menu yang ingin kamu beli =2\n",
      "Masukkan berapa banyak kamu ingin beli? =10\n",
      "--------------------------\n",
      "JAJANAN PASAR INDAH\n",
      "--------------------------\n",
      "Menu : Bakwan\n",
      "Jumlah Pesan : 10\n",
      "Harga : 10000\n",
      "--------------------------\n",
      "Jumlah Bayar : 10000\n",
      "--------------------------\n"
     ]
    }
   ],
   "source": [
    "pilihan=\"y\"\n",
    "while pilihan==\"y\":\n",
    "    print(\"\"\"\n",
    "    ==============================\n",
    "    \n",
    "    MENU JAJANAN PASAR INDAH\n",
    " \n",
    "    ==============================\n",
    "    1. Donat : Rp 1.250\n",
    "    2. Bakwan : Rp 1.000\n",
    "    3. Onde-onde : Rp 800\n",
    "    4. Lemper : Rp 1.250\n",
    "    5. Risol : Rp 1.500\n",
    "    ==============================\n",
    "    \"\"\")\n",
    "    pesan=str(input(\"Masukan menu yang ingin kamu beli =\"))\n",
    "    jumlahpesan=int(input(\"Masukkan berapa banyak kamu ingin beli? =\"))\n",
    "    if pesan == \"1\":\n",
    "        listnama= \"Donat\"\n",
    "        harga=(1250*jumlahpesan)\n",
    "        totalharga=int(harga)\n",
    "    elif pesan == \"2\":\n",
    "        listnama= \"Bakwan\"\n",
    "        harga = (1000*jumlahpesan)\n",
    "        totalharga=int(harga)\n",
    "    elif pesan == \"3\":\n",
    "        listnama= \"Onde-onde\"\n",
    "        harga = (800*jumlahpesan)\n",
    "        totalharga=int(harga)\n",
    "    elif pesan == \"4\":\n",
    "        listnama= \"Lemper\"\n",
    "        harga = (1250*jumlahpesan)\n",
    "        totalharga=int(harga)\n",
    "    elif pesan == \"5\":\n",
    "        listnama= \"Risol\"\n",
    "        harga = (1500*jumlahpesan)\n",
    "        totalharga=int(harga)\n",
    "    else:\n",
    "        listnama = \"-\"\n",
    "        harga = \"-\"\n",
    "        totalharga = \"-\"\n",
    "        pilihan=input(\"menu tidak tersedia, silahkan masukkan menu yang tersedia silahkan ulangi kembali Y/N =\")\n",
    " \n",
    "    print(\"--------------------------\")\n",
    "    print(\"JAJANAN PASAR INDAH\")\n",
    "    print(\"--------------------------\")\n",
    "    print(\"Menu :\",listnama)\n",
    "    print(\"Jumlah Pesan :\", jumlahpesan)\n",
    "    print(\"Harga :\", harga)\n",
    "    print(\"--------------------------\")\n",
    "    print(\"Jumlah Bayar :\", totalharga)\n",
    "    print(\"--------------------------\")\n",
    "    pilihan=input(\"apakah anda ingin order kembali Y/N =\")"
   ]
  },
  {
   "cell_type": "code",
   "execution_count": null,
   "metadata": {},
   "outputs": [],
   "source": []
  }
 ],
 "metadata": {
  "kernelspec": {
   "display_name": "Python 3",
   "language": "python",
   "name": "python3"
  }
 },
 "nbformat": 4,
 "nbformat_minor": 4
}

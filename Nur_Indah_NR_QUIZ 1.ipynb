{
 "cells": [
  {
   "cell_type": "markdown",
   "metadata": {},
   "source": [
    "# QUIZ 1 "
   ]
  },
  {
   "cell_type": "markdown",
   "metadata": {},
   "source": [
    "### Phyton OOP"
   ]
  },
  {
   "cell_type": "code",
   "execution_count": 1,
   "metadata": {},
   "outputs": [
    {
     "name": "stdout",
     "output_type": "stream",
     "text": [
      "nama: Anna, usia: 24, jenis kelamin: Perempuan, jabatan Sekretaris\n",
      "This is me!\n"
     ]
    }
   ],
   "source": [
    "# Encapsulation\n",
    "nama = \"Anna\"\n",
    "usia = 24\n",
    "jeniskelamin = \"Perempuan\"\n",
    "jabatan = \"Sekretaris\"\n",
    "\n",
    "def halo():\n",
    "    print(\"This is me!\")\n",
    "\n",
    "def info_karyawan(nama, usia, jeniskelamin, jabatan):\n",
    "    print(f\"nama: {nama}, usia: {usia}, jenis kelamin: {jeniskelamin}, jabatan {jabatan}\")\n",
    "\n",
    "info_karyawan(nama, usia, jeniskelamin, jabatan)\n",
    "halo()"
   ]
  },
  {
   "cell_type": "code",
   "execution_count": 8,
   "metadata": {},
   "outputs": [],
   "source": [
    "# Abstraction\n",
    "from abc import abstractmethod, ABC"
   ]
  },
  {
   "cell_type": "code",
   "execution_count": 9,
   "metadata": {},
   "outputs": [
    {
     "name": "stdout",
     "output_type": "stream",
     "text": [
      "We are inside test_class task\n",
      "Passed value:  100\n",
      "a\n",
      "We are inside example_class task\n",
      "Passed value:  200\n",
      "test_obj is instance of Absclass?  True\n",
      "example_obj is instance of Absclass?  True\n"
     ]
    }
   ],
   "source": [
    "class Absclass(ABC):\n",
    "    #Method biasa\n",
    "    def cetak(self,x):\n",
    "        print(\"Passed value: \", x)\n",
    "    \n",
    "    #Abstract Method\n",
    "    @abstractmethod\n",
    "    def task(self):\n",
    "        pass\n",
    "\n",
    "        \n",
    "class test_class(Absclass):\n",
    "    def task(self):\n",
    "        print(\"We are inside test_class task\")\n",
    "\n",
    "    def cetak2(self):\n",
    "        print('a')\n",
    "        \n",
    "        \n",
    "class example_class(Absclass):\n",
    "    def task(self):\n",
    "        print(\"We are inside example_class task\")\n",
    "\n",
    "\n",
    "#object of test_class created\n",
    "test_obj = test_class()\n",
    "test_obj.task()\n",
    "test_obj.cetak(100)\n",
    "test_obj.cetak2()\n",
    "\n",
    "\n",
    "#object of example_class created\n",
    "example_obj = example_class()\n",
    "example_obj.task()\n",
    "example_obj.cetak(200)\n",
    " \n",
    "print(\"test_obj is instance of Absclass? \", isinstance(test_obj, Absclass))\n",
    "print(\"example_obj is instance of Absclass? \", isinstance(example_obj, Absclass))"
   ]
  },
  {
   "cell_type": "code",
   "execution_count": 10,
   "metadata": {},
   "outputs": [],
   "source": [
    "class Hewan(ABC):\n",
    "    \n",
    "    @abstractmethod\n",
    "    def suara(self):\n",
    "        pass\n",
    "    \n",
    "class Kambing(Hewan):\n",
    "    def suara(self):\n",
    "        print(\"mbeee\")\n",
    "        \n",
    "class Sapi(Hewan):\n",
    "    def suara(self):\n",
    "        print(\"moooo\")"
   ]
  },
  {
   "cell_type": "code",
   "execution_count": 11,
   "metadata": {},
   "outputs": [
    {
     "name": "stdout",
     "output_type": "stream",
     "text": [
      "mbeee\n",
      "moooo\n"
     ]
    }
   ],
   "source": [
    "kambing1 = Kambing()\n",
    "\n",
    "sapi1 = Sapi()\n",
    "\n",
    "kambing1.suara()\n",
    "sapi1.suara()"
   ]
  },
  {
   "cell_type": "markdown",
   "metadata": {},
   "source": [
    "### Math\n"
   ]
  },
  {
   "cell_type": "code",
   "execution_count": 12,
   "metadata": {},
   "outputs": [
    {
     "name": "stdout",
     "output_type": "stream",
     "text": [
      "Hasil perhitungan 19.189\n"
     ]
    }
   ],
   "source": [
    "import math\n",
    "\n",
    "a = (math.sqrt(175)) + (7**(1/4)) + (1/3) + (math.log(81, 3))\n",
    "\n",
    "print(\"Hasil perhitungan\", round(a,3))"
   ]
  },
  {
   "cell_type": "code",
   "execution_count": null,
   "metadata": {},
   "outputs": [],
   "source": []
  }
 ],
 "metadata": {
  "kernelspec": {
   "display_name": "Python 3",
   "language": "python",
   "name": "python3"
  },
  "language_info": {
   "codemirror_mode": {
    "name": "ipython",
    "version": 3
   },
   "file_extension": ".py",
   "mimetype": "text/x-python",
   "name": "python",
   "nbconvert_exporter": "python",
   "pygments_lexer": "ipython3",
   "version": "3.8.3"
  }
 },
 "nbformat": 4,
 "nbformat_minor": 4
}

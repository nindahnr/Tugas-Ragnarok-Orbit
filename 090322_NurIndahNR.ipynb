{
 "cells": [
  {
   "cell_type": "code",
   "execution_count": 3,
   "metadata": {},
   "outputs": [
    {
     "name": "stdout",
     "output_type": "stream",
     "text": [
      "Requirement already satisfied: numpy in c:\\users\\lenovo\\anaconda3\\lib\\site-packages (1.18.5)\n",
      "Requirement already satisfied: scipy in c:\\users\\lenovo\\anaconda3\\lib\\site-packages (1.5.0)\n",
      "Requirement already satisfied: numpy>=1.14.5 in c:\\users\\lenovo\\anaconda3\\lib\\site-packages (from scipy) (1.18.5)\n"
     ]
    }
   ],
   "source": [
    "import sys\n",
    "\n",
    "# run this cell to install numpy\n",
    "!{sys.executable} -m pip install numpy\n",
    "\n",
    "# run this cell to install scipy\n",
    "!{sys.executable} -m pip install scipy"
   ]
  },
  {
   "cell_type": "code",
   "execution_count": 4,
   "metadata": {},
   "outputs": [],
   "source": [
    "import numpy as np\n",
    "\n",
    "# Creating a Basic Array in Numpy\n",
    "X=np.array([1,2,3,5,5])"
   ]
  },
  {
   "cell_type": "code",
   "execution_count": 5,
   "metadata": {},
   "outputs": [
    {
     "name": "stdout",
     "output_type": "stream",
     "text": [
      "Data [1 2 3 5 5]\n",
      "Mean: 3.2\n"
     ]
    }
   ],
   "source": [
    "# Mean using Numpy\n",
    "print(\"Data\",X)\n",
    "print(\"Mean:\",np.mean(X))"
   ]
  },
  {
   "cell_type": "code",
   "execution_count": 6,
   "metadata": {},
   "outputs": [
    {
     "data": {
      "text/plain": [
       "(array([1, 2, 3, 5]), array([1, 1, 1, 2], dtype=int64))"
      ]
     },
     "execution_count": 6,
     "metadata": {},
     "output_type": "execute_result"
    }
   ],
   "source": [
    "np.unique(X, return_counts=True)"
   ]
  },
  {
   "cell_type": "code",
   "execution_count": 7,
   "metadata": {},
   "outputs": [
    {
     "name": "stdout",
     "output_type": "stream",
     "text": [
      "Data [1 2 3 5 5]\n"
     ]
    },
    {
     "data": {
      "text/plain": [
       "(array([1, 2, 3, 5]), array([1, 1, 1, 2], dtype=int64))"
      ]
     },
     "execution_count": 7,
     "metadata": {},
     "output_type": "execute_result"
    }
   ],
   "source": [
    "# Finding Mode using numpy\n",
    "print(\"Data\",X)\n",
    "val, count = np.unique(X, return_counts=True)\n",
    "val, count"
   ]
  },
  {
   "cell_type": "code",
   "execution_count": 8,
   "metadata": {},
   "outputs": [
    {
     "data": {
      "text/plain": [
       "array([1, 1, 1, 2], dtype=int64)"
      ]
     },
     "execution_count": 8,
     "metadata": {},
     "output_type": "execute_result"
    }
   ],
   "source": [
    "count"
   ]
  },
  {
   "cell_type": "code",
   "execution_count": 9,
   "metadata": {},
   "outputs": [
    {
     "name": "stdout",
     "output_type": "stream",
     "text": [
      "Index:  3\n",
      "Mode numpy: 5\n"
     ]
    }
   ],
   "source": [
    "index = np.argmax(count)\n",
    "print(\"Index: \", index)\n",
    "print(\"Mode numpy:\",val[index])"
   ]
  },
  {
   "cell_type": "code",
   "execution_count": 10,
   "metadata": {},
   "outputs": [
    {
     "name": "stdout",
     "output_type": "stream",
     "text": [
      "Mode scipy: ModeResult(mode=array([5]), count=array([2]))\n"
     ]
    }
   ],
   "source": [
    "# Finding Mode using Scipy\n",
    "\n",
    "from scipy import stats\n",
    "\n",
    "print(\"Mode scipy:\",stats.mode(X))\n",
    "modus = stats.mode(X)"
   ]
  },
  {
   "cell_type": "code",
   "execution_count": 11,
   "metadata": {},
   "outputs": [
    {
     "data": {
      "text/plain": [
       "ModeResult(mode=array([5]), count=array([2]))"
      ]
     },
     "execution_count": 11,
     "metadata": {},
     "output_type": "execute_result"
    }
   ],
   "source": [
    "modus"
   ]
  },
  {
   "cell_type": "code",
   "execution_count": 12,
   "metadata": {},
   "outputs": [
    {
     "name": "stdout",
     "output_type": "stream",
     "text": [
      "Data  [1 2 3 5 5]\n",
      "Range  4\n"
     ]
    }
   ],
   "source": [
    "# Calculating the Range\n",
    "print(\"Data \",X)\n",
    "print(\"Range \",X.max()-X.min())"
   ]
  },
  {
   "cell_type": "code",
   "execution_count": 13,
   "metadata": {},
   "outputs": [
    {
     "name": "stdout",
     "output_type": "stream",
     "text": [
      "Data [ 1  3  4  5  5  6  7 11]\n",
      "\n",
      "Quartile 1: 3.5\n",
      "Quartile 2: 5.0\n",
      "Quartile 3: 6.5\n",
      "\n",
      "Interquartile Range 3.0\n"
     ]
    }
   ],
   "source": [
    "# Defining Data\n",
    "data1=np.array([1, 3, 4, 5, 5, 6, 7, 11])\n",
    "print(\"Data\",data1)\n",
    "\n",
    "# First quartile (Q1)\n",
    "Q1 = np.quantile(data1, .25, interpolation = 'midpoint')\n",
    "print(\"\\nQuartile 1:\",Q1)\n",
    " \n",
    "# Second quartile (Q2)\n",
    "Q2 = np.quantile(data1, .50, interpolation = 'midpoint')\n",
    "print(\"Quartile 2:\",Q2)\n",
    "\n",
    "# Third quartile (Q3)\n",
    "Q3 = np.quantile(data1, .75, interpolation = 'midpoint')\n",
    "print(\"Quartile 3:\",Q3)\n",
    "\n",
    "# Interquaritle range (IQR)\n",
    "IQR = Q3 - Q1\n",
    "print(\"\\nInterquartile Range\",IQR)"
   ]
  },
  {
   "cell_type": "code",
   "execution_count": 14,
   "metadata": {},
   "outputs": [
    {
     "name": "stdout",
     "output_type": "stream",
     "text": [
      "Data [ 1  3  4  5  5  6  7 11]\n",
      "20th Percentile: 3.4\n"
     ]
    }
   ],
   "source": [
    "print(\"Data\",data1)\n",
    "percentile_20 = np.percentile(data1,20)\n",
    "print(\"20th Percentile:\",round(percentile_20,2))"
   ]
  },
  {
   "cell_type": "code",
   "execution_count": 15,
   "metadata": {},
   "outputs": [
    {
     "name": "stdout",
     "output_type": "stream",
     "text": [
      "Data [ 1  3  4  5  5  6  7 11]\n",
      "Varaince: 8.785714285714286\n",
      "Standard Deviation: 2.7726341266023544\n",
      "Standard Deviation: 2.9640705601780613\n"
     ]
    }
   ],
   "source": [
    "import numpy as np\n",
    "\n",
    "data1=np.array([1, 3, 4, 5, 5, 6, 7, 11])\n",
    "\n",
    "print(\"Data\",data1)\n",
    "\n",
    "'''\n",
    "    \"Delta Degrees of Freedom\": the divisor used in the calculation is\n",
    "    ``N - ddof``, where ``N`` represents the number of elements. By\n",
    "    default `ddof` is zero.\n",
    "'''\n",
    "print(\"Varaince:\",np.var(data1,ddof=1))\n",
    "print(\"Standard Deviation:\",np.std(data1,ddof=0)) # populasi\n",
    "print(\"Standard Deviation:\",np.std(data1,ddof=1)) # sampel"
   ]
  },
  {
   "cell_type": "code",
   "execution_count": 16,
   "metadata": {},
   "outputs": [
    {
     "name": "stdout",
     "output_type": "stream",
     "text": [
      "Nilai Mean E :  78.0\n",
      "Nilai Range E : 40\n",
      "Nilai Varians E : 116.0\n",
      "Nilai Standart Deviasi E:  10.770329614269007\n",
      "Nilai Standart Deviasi E:  11.352924243950934\n"
     ]
    }
   ],
   "source": [
    "import numpy as np\n",
    "import statistics\n",
    "\n",
    "E = [60,70,70,70,80,80,80,80,90,100]\n",
    "F = [75,75,75,75,80,80,80,80,80,80]\n",
    "\n",
    "# mean\n",
    "print(\"Nilai Mean E : \", np.mean(E))\n",
    "\n",
    "# range\n",
    "print(\"Nilai Range E :\", np.max(E) - np.min(E))\n",
    "\n",
    "# varians\n",
    "print(\"Nilai Varians E :\", np.var(E))\n",
    "\n",
    "# Standart Deviasi\n",
    "print(\"Nilai Standart Deviasi E: \", np.std(E)) # std populasi\n",
    "print(\"Nilai Standart Deviasi E: \", statistics.stdev(E)) # std sampel, bisa pakai pst.dev untuk populasi"
   ]
  },
  {
   "cell_type": "code",
   "execution_count": 17,
   "metadata": {},
   "outputs": [
    {
     "name": "stdout",
     "output_type": "stream",
     "text": [
      "[1 2 3 4 5 6 7 8 9]\n",
      "[9 8 7 6 5 4 3 2 1]\n",
      "\n",
      "Covariance  -7.5\n"
     ]
    }
   ],
   "source": [
    "x = np.array([1,2,3,4,5,6,7,8,9])\n",
    "print(x)\n",
    "y = np.array([9,8,7,6,5,4,3,2,1])\n",
    "print(y)\n",
    "\n",
    "print(\"\\nCovariance \",np.cov(x,y)[0,1])"
   ]
  },
  {
   "cell_type": "code",
   "execution_count": 18,
   "metadata": {},
   "outputs": [
    {
     "name": "stdout",
     "output_type": "stream",
     "text": [
      "[[ 1. -1.]\n",
      " [-1.  1.]]\n"
     ]
    }
   ],
   "source": [
    "# Return a correlation coefficient matrix\n",
    "print(np.corrcoef(x,y))"
   ]
  },
  {
   "cell_type": "code",
   "execution_count": 19,
   "metadata": {},
   "outputs": [
    {
     "name": "stdout",
     "output_type": "stream",
     "text": [
      "Kurtosis -1.2002400240024003\n"
     ]
    }
   ],
   "source": [
    "data2=np.linspace(-5,5,100)\n",
    "print(\"Kurtosis\",stats.kurtosis(data2))"
   ]
  },
  {
   "cell_type": "code",
   "execution_count": 20,
   "metadata": {},
   "outputs": [
    {
     "data": {
      "text/html": [
       "<script>\n",
       "code_show=true; \n",
       "function code_toggle() {\n",
       "    if (code_show){\n",
       "        $('div.cell.code_cell.rendered.selected div.input').hide();\n",
       "    } else {\n",
       "        $('div.cell.code_cell.rendered.selected div.input').show();\n",
       "    }\n",
       "    code_show = !code_show\n",
       "} \n",
       "$( document ).ready(code_toggle);\n",
       "</script>\n",
       "To show/hide this cell's raw code input, click <a href=\"javascript:code_toggle()\">here</a>."
      ],
      "text/plain": [
       "<IPython.core.display.HTML object>"
      ]
     },
     "metadata": {},
     "output_type": "display_data"
    },
    {
     "data": {
      "image/png": "[encoded data removed]",
      "text/plain": [
       "<Figure size 432x288 with 1 Axes>"
      ]
     },
     "metadata": {
      "needs_background": "light"
     },
     "output_type": "display_data"
    }
   ],
   "source": [
    "from IPython.display import HTML\n",
    "from IPython.display import display\n",
    "\n",
    "# Taken from https://stackoverflow.com/questions/31517194/how-to-hide-one-specific-cell-input-or-output-in-ipython-notebook\n",
    "tag = HTML('''<script>\n",
    "code_show=true; \n",
    "function code_toggle() {\n",
    "    if (code_show){\n",
    "        $('div.cell.code_cell.rendered.selected div.input').hide();\n",
    "    } else {\n",
    "        $('div.cell.code_cell.rendered.selected div.input').show();\n",
    "    }\n",
    "    code_show = !code_show\n",
    "} \n",
    "$( document ).ready(code_toggle);\n",
    "</script>\n",
    "To show/hide this cell's raw code input, click <a href=\"javascript:code_toggle()\">here</a>.''')\n",
    "display(tag)\n",
    "\n",
    "\n",
    "\n",
    "from scipy.stats import skewnorm\n",
    "import matplotlib.pyplot as plt\n",
    "\n",
    "numValues = 10000\n",
    "maxValue = 100\n",
    "skewness = -5   #Negative values are left skewed, positive values are right skewed.\n",
    "\n",
    "random = skewnorm.rvs(a = skewness,loc=maxValue, size=numValues)  #Skewnorm function\n",
    "\n",
    "random = random - min(random)      #Shift the set so the minimum value is equal to zero.\n",
    "random = random / max(random)      #Standadize all the vlues between 0 and 1. \n",
    "random = random * maxValue         #Multiply the standardized values by the maximum value.\n",
    "\n",
    "#Plot histogram to check skewness\n",
    "plt.hist(random,30,density=True, color = 'red', alpha=0.1)\n",
    "plt.show()"
   ]
  },
  {
   "cell_type": "code",
   "execution_count": null,
   "metadata": {},
   "outputs": [],
   "source": []
  }
 ],
 "metadata": {
  "kernelspec": {
   "display_name": "Python 3",
   "language": "python",
   "name": "python3"
  },
  "language_info": {
   "codemirror_mode": {
    "name": "ipython",
    "version": 3
   },
   "file_extension": ".py",
   "mimetype": "text/x-python",
   "name": "python",
   "nbconvert_exporter": "python",
   "pygments_lexer": "ipython3",
   "version": "3.8.3"
  }
 },
 "nbformat": 4,
 "nbformat_minor": 4
}

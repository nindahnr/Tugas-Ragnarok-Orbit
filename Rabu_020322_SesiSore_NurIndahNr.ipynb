{
 "cells": [
  {
   "cell_type": "markdown",
   "metadata": {},
   "source": [
    "# TUGAS 2 MARET SORE"
   ]
  },
  {
   "cell_type": "markdown",
   "metadata": {},
   "source": [
    "### Nomor 1"
   ]
  },
  {
   "cell_type": "code",
   "execution_count": 2,
   "metadata": {},
   "outputs": [
    {
     "name": "stdout",
     "output_type": "stream",
     "text": [
      "False\n",
      "True\n"
     ]
    }
   ],
   "source": [
    "def divisible(m,n):\n",
    "    if m % n == 0:\n",
    "        return True\n",
    "    return False\n",
    "\n",
    "print(divisible(2,3))\n",
    "print(divisible(4,2))"
   ]
  },
  {
   "cell_type": "markdown",
   "metadata": {},
   "source": [
    "### Nomor 2"
   ]
  },
  {
   "cell_type": "code",
   "execution_count": 3,
   "metadata": {},
   "outputs": [
    {
     "name": "stdout",
     "output_type": "stream",
     "text": [
      "1. Soup and salad\n",
      "2. Pasta with meat sauce\n",
      "3. Chef's spesial\n",
      "Which your would you like to order? 2\n",
      "One Pasta with meat sauce coming right up!\n"
     ]
    }
   ],
   "source": [
    "def menu():\n",
    "    print(\"1. Soup and salad\")\n",
    "    print(\"2. Pasta with meat sauce\")\n",
    "    print(\"3. Chef's spesial\")\n",
    "    inp = int(input(\"Which your would you like to order? \"))\n",
    "    \n",
    "    if inp == 1:\n",
    "        print(\"One Soup and salad coming right up!\")\n",
    "    elif inp == 2:\n",
    "        print(\"One Pasta with meat sauce coming right up!\")\n",
    "    elif inp == 3:\n",
    "        print(\"One Chef's spesial coming right up!\")\n",
    "    else:\n",
    "        print(\"Sorry, that is not a valid choice.\")\n",
    "\n",
    "menu()"
   ]
  },
  {
   "cell_type": "code",
   "execution_count": 4,
   "metadata": {},
   "outputs": [
    {
     "name": "stdout",
     "output_type": "stream",
     "text": [
      "1. Soup and salad\n",
      "2. Pasta with meat sauce\n",
      "3. Chef's spesial\n",
      "Which your would you like to order? 5\n",
      "Sorry, that is not a valid choice.\n"
     ]
    }
   ],
   "source": [
    "def menu():\n",
    "    print(\"1. Soup and salad\")\n",
    "    print(\"2. Pasta with meat sauce\")\n",
    "    print(\"3. Chef's spesial\")\n",
    "    inp = int(input(\"Which your would you like to order? \"))\n",
    "    \n",
    "    if inp == 1:\n",
    "        print(\"One Soup and salad coming right up!\")\n",
    "    elif inp == 2:\n",
    "        print(\"One Pasta with meat sauce coming right up!\")\n",
    "    elif inp == 3:\n",
    "        print(\"One Chef's spesial coming right up!\")\n",
    "    else:\n",
    "        print(\"Sorry, that is not a valid choice.\")\n",
    "\n",
    "menu()"
   ]
  },
  {
   "cell_type": "markdown",
   "metadata": {},
   "source": [
    "### Nomor 3"
   ]
  },
  {
   "cell_type": "code",
   "execution_count": 5,
   "metadata": {},
   "outputs": [
    {
     "name": "stdout",
     "output_type": "stream",
     "text": [
      "False\n"
     ]
    }
   ],
   "source": [
    "import random\n",
    "\n",
    "def rand_divis_3():\n",
    "    number = random.randint(1,100)\n",
    "    if number % 3 == 0:\n",
    "        return True\n",
    "    return False\n",
    "\n",
    "print(rand_divis_3())"
   ]
  },
  {
   "cell_type": "markdown",
   "metadata": {},
   "source": [
    "### Nomor 4"
   ]
  },
  {
   "cell_type": "code",
   "execution_count": 6,
   "metadata": {},
   "outputs": [
    {
     "name": "stdout",
     "output_type": "stream",
     "text": [
      "True\n"
     ]
    }
   ],
   "source": [
    "def isNotEqual(a,b):\n",
    "    return (a > b) or (b > a)\n",
    "\n",
    "a = 100\n",
    "b = 10\n",
    "print(isNotEqual(a,b))"
   ]
  },
  {
   "cell_type": "markdown",
   "metadata": {},
   "source": [
    "### Nomor 5"
   ]
  },
  {
   "cell_type": "code",
   "execution_count": 7,
   "metadata": {},
   "outputs": [
    {
     "name": "stdout",
     "output_type": "stream",
     "text": [
      "Enter your name: indah\n",
      "your name is indah\n"
     ]
    }
   ],
   "source": [
    "# variable name adalah variable lokal dari fungsi ask_name()\n",
    "# sehingga variable name tidak bisa di akses di luar fungsi ask_name()\n",
    "def ask_name():\n",
    "    name = input(\"Enter your name: \")\n",
    "    print(\"your name is\",name)\n",
    "\n",
    "ask_name()"
   ]
  },
  {
   "cell_type": "code",
   "execution_count": null,
   "metadata": {},
   "outputs": [],
   "source": []
  }
 ],
 "metadata": {
  "kernelspec": {
   "display_name": "Python 3",
   "language": "python",
   "name": "python3"
  },
  "language_info": {
   "codemirror_mode": {
    "name": "ipython",
    "version": 3
   },
   "file_extension": ".py",
   "mimetype": "text/x-python",
   "name": "python",
   "nbconvert_exporter": "python",
   "pygments_lexer": "ipython3",
   "version": "3.8.3"
  }
 },
 "nbformat": 4,
 "nbformat_minor": 4
}

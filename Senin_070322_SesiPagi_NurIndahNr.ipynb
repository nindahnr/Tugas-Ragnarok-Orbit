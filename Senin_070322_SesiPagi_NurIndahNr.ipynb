{
 "cells": [
  {
   "cell_type": "markdown",
   "metadata": {},
   "source": [
    "# TUGAS 7 MARET PAGI"
   ]
  },
  {
   "cell_type": "markdown",
   "metadata": {},
   "source": [
    "### Encapsulation\n",
    "\n"
   ]
  },
  {
   "cell_type": "code",
   "execution_count": 8,
   "metadata": {},
   "outputs": [
    {
     "name": "stdout",
     "output_type": "stream",
     "text": [
      "nama: Anna, usia: 24, jenis kelamin: Perempuan, jabatan Sekretaris\n",
      "This is me!\n"
     ]
    }
   ],
   "source": [
    "nama = \"Anna\"\n",
    "usia = 24\n",
    "jeniskelamin = \"Perempuan\"\n",
    "jabatan = \"Sekretaris\"\n",
    "\n",
    "def halo():\n",
    "    print(\"This is me!\")\n",
    "\n",
    "def info_karyawan(nama, usia, jeniskelamin, jabatan):\n",
    "    print(f\"nama: {nama}, usia: {usia}, jenis kelamin: {jeniskelamin}, jabatan {jabatan}\")\n",
    "\n",
    "info_karyawan(nama, usia, jeniskelamin, jabatan)\n",
    "halo()"
   ]
  },
  {
   "cell_type": "code",
   "execution_count": 7,
   "metadata": {},
   "outputs": [
    {
     "name": "stdout",
     "output_type": "stream",
     "text": [
      "nama: Anna, usia: 24, jeniskelamin: Perempuan, jabatan: Sekretaris\n",
      "This is me! Anna\n"
     ]
    }
   ],
   "source": [
    "class Karyawan(object):\n",
    "    \n",
    "    nama_karyawan = \"\"\n",
    "    def __init__(selfie, input_nama, input_usia, input_jeniskelamin, input_jabatan):\n",
    "        selfie.nama = input_nama\n",
    "        selfie.usia = input_usia\n",
    "        selfie.jeniskelamin = input_jeniskelamin\n",
    "        selfie.jabatan = input_jabatan\n",
    "        Karyawan.nama_karyawan = input_nama\n",
    "\n",
    "    def halo(selfie):\n",
    "        print(\"This is me!\", selfie.nama)\n",
    "\n",
    "    def info(selfie):\n",
    "        print(f\"nama: {selfie.nama}, usia: {selfie.usia}, jeniskelamin: {selfie.jeniskelamin}, jabatan: {selfie.jabatan}\")\n",
    "\n",
    "\n",
    "karyawan1 = Karyawan(\"Anna\", 24, \"Perempuan\", \"Sekretaris\")\n",
    "\n",
    "karyawan1.info()\n",
    "karyawan1.halo()"
   ]
  },
  {
   "cell_type": "markdown",
   "metadata": {},
   "source": [
    "### Inheritance"
   ]
  },
  {
   "cell_type": "code",
   "execution_count": 45,
   "metadata": {},
   "outputs": [
    {
     "name": "stdout",
     "output_type": "stream",
     "text": [
      "brummm... brummm...\n",
      "brummm... brummm...\n",
      "nama: Alphard, warna: Putih, harga: 1000000000, plat: B\n"
     ]
    }
   ],
   "source": [
    "class Kendaraan(object):\n",
    "    def __init__(self, nama, warna, harga, plat):\n",
    "        self.nama = nama\n",
    "        self.warna = warna\n",
    "        self.harga = harga\n",
    "        self.plat = plat\n",
    "\n",
    "    def __jalan(self, durasi):\n",
    "        for x in range(durasi):\n",
    "            print(\"brummm... brummm...\")\n",
    "\n",
    "    def info(self):\n",
    "        self.__jalan(2)\n",
    "        print(f\"nama: {self.nama}, warna: {self.warna}, harga: {self.harga}, plat: {self.plat}\")\n",
    "\n",
    "car1 = Kendaraan(\"Alphard\", \"Putih\", 1000000000, \"B\")\n",
    "\n",
    "car1.info()"
   ]
  },
  {
   "cell_type": "code",
   "execution_count": 47,
   "metadata": {},
   "outputs": [
    {
     "name": "stdout",
     "output_type": "stream",
     "text": [
      "brummm... brummm...\n",
      "brummm... brummm...\n",
      "nama: Alphard, warna: Putih, harga: 1000000000\n",
      "tahunterbit: 2015\n"
     ]
    },
    {
     "ename": "AttributeError",
     "evalue": "'super' object has no attribute '_jalan'",
     "output_type": "error",
     "traceback": [
      "\u001b[1;31m---------------------------------------------------------------------------\u001b[0m",
      "\u001b[1;31mAttributeError\u001b[0m                            Traceback (most recent call last)",
      "\u001b[1;32m<ipython-input-47-1c9ae16afa96>\u001b[0m in \u001b[0;36m<module>\u001b[1;34m\u001b[0m\n\u001b[0;32m     18\u001b[0m \u001b[1;31m# minibus1.jalan(5)\u001b[0m\u001b[1;33m\u001b[0m\u001b[1;33m\u001b[0m\u001b[1;33m\u001b[0m\u001b[0m\n\u001b[0;32m     19\u001b[0m \u001b[0mminibus1\u001b[0m\u001b[1;33m.\u001b[0m\u001b[0minfo_kendaraan\u001b[0m\u001b[1;33m(\u001b[0m\u001b[1;33m)\u001b[0m\u001b[1;33m\u001b[0m\u001b[1;33m\u001b[0m\u001b[0m\n\u001b[1;32m---> 20\u001b[1;33m \u001b[0mminibus1\u001b[0m\u001b[1;33m.\u001b[0m\u001b[0mbrum\u001b[0m\u001b[1;33m(\u001b[0m\u001b[1;33m)\u001b[0m\u001b[1;33m\u001b[0m\u001b[1;33m\u001b[0m\u001b[0m\n\u001b[0m\u001b[0;32m     21\u001b[0m \u001b[1;31m#car1.brum()\u001b[0m\u001b[1;33m\u001b[0m\u001b[1;33m\u001b[0m\u001b[1;33m\u001b[0m\u001b[0m\n",
      "\u001b[1;32m<ipython-input-20-7069045d5fb6>\u001b[0m in \u001b[0;36mbrum\u001b[1;34m(self)\u001b[0m\n\u001b[0;32m      5\u001b[0m \u001b[1;33m\u001b[0m\u001b[0m\n\u001b[0;32m      6\u001b[0m     \u001b[1;32mdef\u001b[0m \u001b[0mbrum\u001b[0m\u001b[1;33m(\u001b[0m\u001b[0mself\u001b[0m\u001b[1;33m)\u001b[0m\u001b[1;33m:\u001b[0m\u001b[1;33m\u001b[0m\u001b[1;33m\u001b[0m\u001b[0m\n\u001b[1;32m----> 7\u001b[1;33m         \u001b[0msuper\u001b[0m\u001b[1;33m(\u001b[0m\u001b[1;33m)\u001b[0m\u001b[1;33m.\u001b[0m\u001b[0m_jalan\u001b[0m\u001b[1;33m(\u001b[0m\u001b[1;36m2\u001b[0m\u001b[1;33m)\u001b[0m\u001b[1;33m\u001b[0m\u001b[1;33m\u001b[0m\u001b[0m\n\u001b[0m\u001b[0;32m      8\u001b[0m         \u001b[0mprint\u001b[0m\u001b[1;33m(\u001b[0m\u001b[1;34m\"brumm... brumm...\"\u001b[0m\u001b[1;33m)\u001b[0m\u001b[1;33m\u001b[0m\u001b[1;33m\u001b[0m\u001b[0m\n\u001b[0;32m      9\u001b[0m \u001b[1;33m\u001b[0m\u001b[0m\n",
      "\u001b[1;31mAttributeError\u001b[0m: 'super' object has no attribute '_jalan'"
     ]
    }
   ],
   "source": [
    "class Minibus(Kendaraan):\n",
    "    def __init__(self,  nama, warna, harga, plat, tahunterbit, status):\n",
    "        super().__init__(nama, warna, harga, plat)\n",
    "        self.tahunterbit = tahunterbit\n",
    "        self.status = status\n",
    "        \n",
    "    def brum(self):\n",
    "        super()._jalan(2)\n",
    "        print(\"brumm... brumm...\")\n",
    "\n",
    "    def info_kendaraan(self):\n",
    "        super().info()\n",
    "        print(f\"Tahun Terbit: {self.tahunterbit}, Status: {self.status}\")\n",
    "\n",
    "car2 = Minibus(\"Avanza\", \"Silver\", 120000000, \"B\", 2016, \"Second\")\n",
    "\n",
    "# minibus1.info()\n",
    "# minibus1.jalan(5)\n",
    "minibus1.info_kendaraan()\n",
    "minibus1.brum()\n",
    "#car1.brum()"
   ]
  },
  {
   "cell_type": "markdown",
   "metadata": {},
   "source": [
    "### Abstraction\n"
   ]
  },
  {
   "cell_type": "code",
   "execution_count": 48,
   "metadata": {},
   "outputs": [],
   "source": [
    "from abc import abstractmethod, ABC"
   ]
  },
  {
   "cell_type": "code",
   "execution_count": 51,
   "metadata": {},
   "outputs": [
    {
     "name": "stdout",
     "output_type": "stream",
     "text": [
      "We are inside test_class task\n",
      "Passed value:  100\n",
      "a\n",
      "We are inside example_class task\n",
      "Passed value:  200\n",
      "test_obj is instance of Absclass?  True\n",
      "example_obj is instance of Absclass?  True\n"
     ]
    }
   ],
   "source": [
    "class Absclass(ABC):\n",
    "    #Method biasa\n",
    "    def cetak(self,x):\n",
    "        print(\"Passed value: \", x)\n",
    "    \n",
    "    #Abstract Method\n",
    "    @abstractmethod\n",
    "    def task(self):\n",
    "        pass\n",
    "\n",
    "        \n",
    "class test_class(Absclass):\n",
    "    def task(self):\n",
    "        print(\"We are inside test_class task\")\n",
    "\n",
    "    def cetak2(self):\n",
    "        print('a')\n",
    "        \n",
    "        \n",
    "class example_class(Absclass):\n",
    "    def task(self):\n",
    "        print(\"We are inside example_class task\")\n",
    "\n",
    "\n",
    "#object of test_class created\n",
    "test_obj = test_class()\n",
    "test_obj.task()\n",
    "test_obj.cetak(100)\n",
    "test_obj.cetak2()\n",
    "\n",
    "\n",
    "#object of example_class created\n",
    "example_obj = example_class()\n",
    "example_obj.task()\n",
    "example_obj.cetak(200)\n",
    " \n",
    "print(\"test_obj is instance of Absclass? \", isinstance(test_obj, Absclass))\n",
    "print(\"example_obj is instance of Absclass? \", isinstance(example_obj, Absclass))"
   ]
  },
  {
   "cell_type": "code",
   "execution_count": 58,
   "metadata": {},
   "outputs": [],
   "source": [
    "class Hewan(ABC):\n",
    "    \n",
    "    @abstractmethod\n",
    "    def suara(self):\n",
    "        pass\n",
    "    \n",
    "class Kambing(Hewan):\n",
    "    def suara(self):\n",
    "        print(\"mbeee\")\n",
    "        \n",
    "class Sapi(Hewan):\n",
    "    def suara(self):\n",
    "        print(\"moooo\")"
   ]
  },
  {
   "cell_type": "code",
   "execution_count": 59,
   "metadata": {},
   "outputs": [
    {
     "name": "stdout",
     "output_type": "stream",
     "text": [
      "mbeee\n",
      "moooo\n"
     ]
    }
   ],
   "source": [
    "kambing1 = Kambing()\n",
    "\n",
    "sapi1 = Sapi()\n",
    "\n",
    "kambing1.suara()\n",
    "sapi1.suara()"
   ]
  },
  {
   "cell_type": "markdown",
   "metadata": {},
   "source": [
    "### Polymorphism\n"
   ]
  },
  {
   "cell_type": "code",
   "execution_count": 62,
   "metadata": {},
   "outputs": [
    {
     "ename": "TypeError",
     "evalue": "__init__() takes 6 positional arguments but 8 were given",
     "output_type": "error",
     "traceback": [
      "\u001b[1;31m---------------------------------------------------------------------------\u001b[0m",
      "\u001b[1;31mTypeError\u001b[0m                                 Traceback (most recent call last)",
      "\u001b[1;32m<ipython-input-62-9826175ea666>\u001b[0m in \u001b[0;36m<module>\u001b[1;34m\u001b[0m\n\u001b[0;32m     38\u001b[0m       \u001b[0mprint\u001b[0m\u001b[1;33m(\u001b[0m\u001b[1;34m\"cukup\"\u001b[0m\u001b[1;33m)\u001b[0m\u001b[1;33m\u001b[0m\u001b[1;33m\u001b[0m\u001b[0m\n\u001b[0;32m     39\u001b[0m \u001b[1;33m\u001b[0m\u001b[0m\n\u001b[1;32m---> 40\u001b[1;33m \u001b[0mflower1\u001b[0m \u001b[1;33m=\u001b[0m \u001b[0mBunga\u001b[0m\u001b[1;33m(\u001b[0m\u001b[1;34m\"Mawar\"\u001b[0m\u001b[1;33m,\u001b[0m \u001b[1;36m2\u001b[0m\u001b[1;33m,\u001b[0m \u001b[1;34m\"Tanaman hias\"\u001b[0m\u001b[1;33m,\u001b[0m \u001b[1;34m\"Darat\"\u001b[0m\u001b[1;33m,\u001b[0m \u001b[1;34m\"Merah\"\u001b[0m\u001b[1;33m,\u001b[0m \u001b[1;36m100000\u001b[0m\u001b[1;33m,\u001b[0m \u001b[1;36m115000\u001b[0m\u001b[1;33m)\u001b[0m\u001b[1;33m\u001b[0m\u001b[1;33m\u001b[0m\u001b[0m\n\u001b[0m\u001b[0;32m     41\u001b[0m \u001b[1;33m\u001b[0m\u001b[0m\n\u001b[0;32m     42\u001b[0m \u001b[0mflower1\u001b[0m\u001b[1;33m.\u001b[0m\u001b[0minfo\u001b[0m\u001b[1;33m(\u001b[0m\u001b[1;33m)\u001b[0m\u001b[1;33m\u001b[0m\u001b[1;33m\u001b[0m\u001b[0m\n",
      "\u001b[1;31mTypeError\u001b[0m: __init__() takes 6 positional arguments but 8 were given"
     ]
    }
   ],
   "source": [
    "class Tumbuhan(object):\n",
    "  def __init__(self, nama, umur, jenis, habitat):\n",
    "    self.nama = nama\n",
    "    self.umur = umur\n",
    "    self.jenis = jenis\n",
    "    self.habitat = habitat\n",
    "\n",
    "  def suara(self, durasi):\n",
    "    for x in range(durasi):\n",
    "      print(\"tidak bersuara\")\n",
    "\n",
    "  def info(self):\n",
    "    print(f\"nama: {self.nama}, umur: {self.umur}, jenis: {self.jenis}, habitat: {self.habitat}\")\n",
    "\n",
    "\n",
    "class Bunga(Tumbuhan):\n",
    "  def __init__(self,  nama, umur, jenis, habitat, warna):\n",
    "    super().__init__(nama, umur, jenis, habitat)\n",
    "    self.warna = warna\n",
    "    self.hargabeli = hargabeli\n",
    "    self.hargajual = hargajual\n",
    "  \n",
    "  def disiram(self, durasi):\n",
    "    print(\"menjadi besar\")\n",
    "\n",
    "  def info_bunga(self):\n",
    "    print(f\"warna: {self.warna}, hargabeli: {self.hargabeli}, hargajual: {hargajual}\")\n",
    "\n",
    "class Buah(Tumbuhan):\n",
    "  def __init__(self,  nama, umur, jenis, habitat, warna):\n",
    "    super().__init__(nama, umur, jenis, habitat)\n",
    "    self.warna = warna\n",
    "  \n",
    "  def diberipupuk(self, jumlah):\n",
    "    if jumlah >=5 :\n",
    "      print(\"kebanyakan\")\n",
    "    else:\n",
    "      print(\"cukup\")\n",
    "\n",
    "flower1 = Bunga(\"Mawar\", 2, \"Tanaman hias\", \"Darat\", \"Merah\", 100000, 115000)\n",
    "\n",
    "flower1.info()\n",
    "flower1.info_bunga()\n",
    "flower1.suara(5)\n",
    "\n",
    "\n",
    "fruit1 = (\"Apel\", 3, \"Pohon\", \"Darat\", \"Merah\")\n",
    "\n",
    "fruit1.info()\n",
    "fruit1.suara(2)\n",
    "fruit1.diberipupuk(5)"
   ]
  },
  {
   "cell_type": "code",
   "execution_count": null,
   "metadata": {},
   "outputs": [],
   "source": []
  }
 ],
 "metadata": {
  "kernelspec": {
   "display_name": "Python 3",
   "language": "python",
   "name": "python3"
  },
  "language_info": {
   "codemirror_mode": {
    "name": "ipython",
    "version": 3
   },
   "file_extension": ".py",
   "mimetype": "text/x-python",
   "name": "python",
   "nbconvert_exporter": "python",
   "pygments_lexer": "ipython3",
   "version": "3.8.3"
  }
 },
 "nbformat": 4,
 "nbformat_minor": 4
}
